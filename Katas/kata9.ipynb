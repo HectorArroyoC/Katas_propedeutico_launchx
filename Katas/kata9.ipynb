{
  "cells": [
    {
      "cell_type": "markdown",
      "metadata": {},
      "source": [
        "# Ejercicio: Uso de funciones en Python"
      ]
    },
    {
      "cell_type": "markdown",
      "metadata": {},
      "source": [
        "### Ejercicio 1: Trabajar con argumentos en funciones\n",
        "\n",
        "Los argumentos requeridos en las funciones se utilizan cuando las funciones necesitan que esos argumentos funcionen correctamente. En este ejercicio, construirás un informe de combustible que requiere información de varias ubicaciones de combustible en todo el cohete.\n",
        "\n"
      ]
    },
    {
      "cell_type": "markdown",
      "metadata": {},
      "source": [
        "> **TIP**\n",
        "> Dedica unos minutos para tratar de encontrar una solución. Luego desplázate hacia abajo hasta la parte inferior para ver si has logrado compilar el programa de acuerdo con las especificaciones\n",
        "\n",
        "Comienza por crear una función que necesite tres lecturas de combustible y devuelva un informe:"
      ]
    },
    {
      "cell_type": "code",
      "execution_count": 3,
      "metadata": {},
      "outputs": [],
      "source": [
        "# Función para leer 3 tanques de combustible y muestre el promedio\n",
        "def informe_de_combustible(tanque1,tanque2,tanque3):\n",
        "    promedio = (tanque1+tanque2+tanque3) / 3\n",
        "    return f\"\"\"Informe de combustible:\n",
        "    Promedio: {promedio}\n",
        "   Tanque 1: {tanque1} toneladas\n",
        "   Tanque 2: {tanque2} toneladas\n",
        "   Tanque 3: {tanque3} toneladas\n",
        "    \"\"\"\n",
        "\n"
      ]
    },
    {
      "cell_type": "markdown",
      "metadata": {},
      "source": [
        "Ahora que hemos definido la función de informes, vamos a comprobarlo. Para esta misión, los tanques no están llenos:"
      ]
    },
    {
      "cell_type": "code",
      "execution_count": 4,
      "metadata": {},
      "outputs": [
        {
          "name": "stdout",
          "output_type": "stream",
          "text": [
            "Informe de combustible:\n",
            "    Promedio: 78.0\n",
            "   Tanque 1: 67 toneladas\n",
            "   Tanque 2: 78 toneladas\n",
            "   Tanque 3: 89 toneladas\n",
            "    \n"
          ]
        }
      ],
      "source": [
        "# Llamamos a la función que genera el reporte print(funcion(tanque1, tanque2, tanque3))\n",
        "print(informe_de_combustible(67,78,89))"
      ]
    },
    {
      "cell_type": "markdown",
      "metadata": {},
      "source": [
        "En lugar de simplemente crear el informe, la función también está calculando el promedio. Mejora la legibilidad extrayendo el cálculo promedio de la función en una nueva función para que el promedio se pueda hacer de forma independiente:"
      ]
    },
    {
      "cell_type": "code",
      "execution_count": 5,
      "metadata": {},
      "outputs": [
        {
          "data": {
            "text/plain": [
              "71.33333333333333"
            ]
          },
          "execution_count": 5,
          "metadata": {},
          "output_type": "execute_result"
        }
      ],
      "source": [
        "# Función promedio \n",
        "def promedio(values):\n",
        "    total = sum(values)\n",
        "    numero_de_tanques= len(values)\n",
        "    return total/numero_de_tanques\n",
        "promedio([45, 79, 90]) "
      ]
    },
    {
      "cell_type": "markdown",
      "metadata": {},
      "source": [
        "Ahora actualiza la función de informes para llamando a la nueva función del promedio:\n"
      ]
    },
    {
      "cell_type": "code",
      "execution_count": 10,
      "metadata": {},
      "outputs": [
        {
          "name": "stdout",
          "output_type": "stream",
          "text": [
            "Informe de combustible:\n",
            "    Promedio: 78.0\n",
            "   Tanque 1: 67 toneladas\n",
            "   Tanque 2: 78 toneladas\n",
            "   Tanque 3: 89 toneladas\n",
            "    \n"
          ]
        }
      ],
      "source": [
        "# Actualiza la función\n",
        "def informe_de_combustible(tanque1,tanque2,tanque3):\n",
        "    return f\"\"\"Informe de combustible:\n",
        "    Promedio: {promedio([tanque1, tanque2, tanque3])}\n",
        "   Tanque 1: {tanque1} toneladas\n",
        "   Tanque 2: {tanque2} toneladas\n",
        "   Tanque 3: {tanque3} toneladas\n",
        "    \"\"\"\n",
        "print(informe_de_combustible(67,78,89))"
      ]
    },
    {
      "cell_type": "markdown",
      "metadata": {},
      "source": [
        "> Recuerda: Lo importante es intentarlo, puedes auxiliarte de internet, libros, etc. El objetivo de una kata es la comprobación de la comprensión de la lección y su aplicación inmediata a la resolución de problemas. Go for it!"
      ]
    },
    {
      "cell_type": "markdown",
      "metadata": {},
      "source": [
        "## Ejercicio 2: Trabajo con argumentos de palabra clave"
      ]
    },
    {
      "cell_type": "markdown",
      "metadata": {},
      "source": [
        "### Ejercicio : Trabajar con argumentos de palabras clave en funciones\n",
        "En este ejercicio, construirás un informe de cohete que requiere varias piezas de información, como el tiempo hasta el destino, el combustible a la izquierda y el nombre del destino. Comienza por crear una función que creará un informe preciso de la misión:"
      ]
    },
    {
      "cell_type": "code",
      "execution_count": 13,
      "metadata": {},
      "outputs": [
        {
          "name": "stdout",
          "output_type": "stream",
          "text": [
            " Informe de la mision:\n",
            "    Hora de prelanzamiento: 14.0 hora de México\n",
            "    Tiempo de vuelo: 51 horas\n",
            "    Destino:         Moon\n",
            "    Tanque interno:  90 toneladas\n",
            "    Tanque externo:  90 toneladas\n",
            "    \n"
          ]
        }
      ],
      "source": [
        "# Función con un informe preciso de la misión. Considera hora de prelanzamiento, tiempo de vuelo, destino, tanque externo y tanque interno\n",
        "def informe_de_la_mision(hora_prelanzamiento, tiempo_de_vuelo, destino, tanque_interno, tanque_externo):\n",
        "    return f\"\"\" Informe de la mision:\n",
        "    Hora de prelanzamiento: {hora_prelanzamiento} hora de México\n",
        "    Tiempo de vuelo: {tiempo_de_vuelo} horas\n",
        "    Destino:         {destino}\n",
        "    Tanque interno:  {tanque_interno} toneladas\n",
        "    Tanque externo:  {tanque_externo} toneladas\n",
        "    \"\"\"\n",
        "print(informe_de_la_mision(14.00, 51, 'Moon',90,90))\n",
        "\n"
      ]
    },
    {
      "cell_type": "markdown",
      "metadata": {},
      "source": [
        "La función es problemática porque no se puede adaptar para minutos adicionales o tanques adicionales de combustible. Hazlo más flexible permitiendo cualquier número de pasos basados en el tiempo y cualquier número de tanques. En lugar de usar `*args` y `**kwargs`, aprovecha el hecho de que puedes usar cualquier nombre que desees. Asegurate que la función sea más legible mediante el uso de nombres de variables que están asociados con las entradas, como `*minutes` y `**fuel_reservoirs`:"
      ]
    },
    {
      "cell_type": "code",
      "execution_count": 14,
      "metadata": {},
      "outputs": [
        {
          "name": "stdout",
          "output_type": "stream",
          "text": [
            " Informe de la mision\n",
            "    Destino Moon\n",
            "    Tiempo de vuelo: 76 minutos\n",
            "    Combustible total: 500000 toneladas\n",
            "    \n"
          ]
        }
      ],
      "source": [
        "# Escribe tu nueva función de reporte considerando lo anterior\n",
        "def informe_de_la_mision(destino, *minutes, **fuel_reservoirs):\n",
        "    return f\"\"\" Informe de la mision\n",
        "    Destino {destino}\n",
        "    Tiempo de vuelo: {sum(minutes)} minutos\n",
        "    Combustible total: {sum(fuel_reservoirs.values())} toneladas\n",
        "    \"\"\"\n",
        "\n",
        "print(informe_de_la_mision(\"Moon\", 10, 15, 51, tanque_interno=300000, tanque_externo=200000))"
      ]
    },
    {
      "cell_type": "markdown",
      "metadata": {},
      "source": [
        "Debido a que el combustible que queda en los tanques es específico de cada tanque, actualiza la función para usar el nombre de cada tanque en el informe:"
      ]
    },
    {
      "cell_type": "code",
      "execution_count": 16,
      "metadata": {},
      "outputs": [
        {
          "name": "stdout",
          "output_type": "stream",
          "text": [
            " Informe de la mision\n",
            "    Destino Moon\n",
            "    Tiempo de vuelo: 76 minutos\n",
            "    Combustible total: 500000 toneladas\n",
            "    tanque_interno tanque --> 300000 toneladas\n",
            "tanque_externo tanque --> 200000 toneladas\n",
            "\n"
          ]
        }
      ],
      "source": [
        "# Escribe tu nueva función\n",
        "def informe_de_la_mision(destino, *minutes, **fuel_reservoirs):\n",
        "    reporte= f\"\"\" Informe de la mision\n",
        "    Destino {destino}\n",
        "    Tiempo de vuelo: {sum(minutes)} minutos\n",
        "    Combustible total: {sum(fuel_reservoirs.values())} toneladas\n",
        "    \"\"\"\n",
        "    for nombre_del_tanque, toneladas in fuel_reservoirs.items():\n",
        "        reporte += f\"{nombre_del_tanque} tanque --> {toneladas} toneladas\\n\"\n",
        "    return reporte\n",
        "\n",
        "print(informe_de_la_mision(\"Moon\", 10, 15, 51, tanque_interno=300000, tanque_externo=200000))\n"
      ]
    },
    {
      "cell_type": "markdown",
      "metadata": {},
      "source": [
        "---\n",
        "\n",
        "Curso Propedútico de Python para Launch X - Innovacción Virtual.\n",
        "\n",
        "Material desarrollado con base en los contenidos de MSLearn y la metáfora de LaunchX, traducción e implementación por: Fernanda Ochoa - Learning Producer de LaunchX.\n",
        "\n",
        "Redes:\n",
        "* GitHub: [FernandaOchoa](https://github.com/FernandaOchoa)\n",
        "* Twitter: [@imonsh](https://twitter.com/imonsh)\n",
        "* Instagram: [fherz8a](https://www.instagram.com/fherz8a/)"
      ]
    }
  ],
  "metadata": {
    "interpreter": {
      "hash": "205095b8b86ea82a021a8fc2ffba2b3bc9f8d0be25999901963b225939f75778"
    },
    "kernelspec": {
      "display_name": "Python 3.8.10 64-bit ('tmp': conda)",
      "name": "python3"
    },
    "language_info": {
      "codemirror_mode": {
        "name": "ipython",
        "version": 3
      },
      "file_extension": ".py",
      "mimetype": "text/x-python",
      "name": "python",
      "nbconvert_exporter": "python",
      "pygments_lexer": "ipython3",
      "version": "3.10.2"
    },
    "nteract": {
      "version": "nteract-front-end@1.0.0"
    },
    "orig_nbformat": 4
  },
  "nbformat": 4,
  "nbformat_minor": 2
}
